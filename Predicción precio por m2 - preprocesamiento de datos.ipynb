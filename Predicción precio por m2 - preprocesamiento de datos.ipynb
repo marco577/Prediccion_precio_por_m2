{
 "cells": [
  {
   "cell_type": "markdown",
   "metadata": {},
   "source": [
    "# Predicción de precio por $m^2$ de un inmueble con base en sus características"
   ]
  },
  {
   "cell_type": "markdown",
   "metadata": {},
   "source": [
    "## Entendimiento del negocio"
   ]
  },
  {
   "cell_type": "markdown",
   "metadata": {},
   "source": [
    "Se proporciona un conjunto de datos que enlista una serie de inmuebles con sus características geoespaciales y amenidades, el objetivo es poder predecir el precio por $m^2$. Los datos han sido extraídos de diversas páginas de anunciantes de inmuebles que se pueden encontrar en Internet. La metodología planteada para resolver este problema es la propuesta por IMB llamada CRISP-DM.\n",
    "En este cuaderno se puede encontrar de forma detallada la elaboración de la metodología a seguir para este proyecto y la base de la automatización de un nuevo conjunto de datos."
   ]
  },
  {
   "cell_type": "code",
   "execution_count": 1,
   "metadata": {},
   "outputs": [],
   "source": [
    "# librerías\n",
    "# análisis de datos\n",
    "import pandas as pd\n",
    "import numpy as np\n",
    "# graficación\n",
    "import matplotlib.pyplot as plt\n",
    "import seaborn as sns\n",
    "# pruebas estadísticas\n",
    "import statsmodels.api as sm\n",
    "from scipy import stats"
   ]
  },
  {
   "cell_type": "code",
   "execution_count": 2,
   "metadata": {},
   "outputs": [],
   "source": [
    "data = pd.read_csv('reto_precios.csv')"
   ]
  },
  {
   "cell_type": "markdown",
   "metadata": {},
   "source": [
    "## Entendimiento de los datos"
   ]
  },
  {
   "cell_type": "code",
   "execution_count": 3,
   "metadata": {},
   "outputs": [
    {
     "name": "stdout",
     "output_type": "stream",
     "text": [
      "<class 'pandas.core.frame.DataFrame'>\n",
      "RangeIndex: 981 entries, 0 to 980\n",
      "Data columns (total 35 columns):\n",
      " #   Column                Non-Null Count  Dtype  \n",
      "---  ------                --------------  -----  \n",
      " 0   main_name             981 non-null    object \n",
      " 1   subtitle              981 non-null    object \n",
      " 2   link                  981 non-null    object \n",
      " 3   location              981 non-null    object \n",
      " 4   price                 981 non-null    object \n",
      " 5   attributes            981 non-null    object \n",
      " 6   timestamp             981 non-null    object \n",
      " 7   id                    981 non-null    int64  \n",
      " 8   address               702 non-null    object \n",
      " 9   since                 981 non-null    object \n",
      " 10  description           981 non-null    object \n",
      " 11  vendor                981 non-null    object \n",
      " 12  lat                   981 non-null    float64\n",
      " 13  lon                   981 non-null    float64\n",
      " 14  price_mod             981 non-null    float64\n",
      " 15  price_currency        981 non-null    object \n",
      " 16  since_period          981 non-null    object \n",
      " 17  since_value           981 non-null    int64  \n",
      " 18  days_on_site          981 non-null    float64\n",
      " 19  amenities             504 non-null    float64\n",
      " 20  age_in_years          981 non-null    float64\n",
      " 21  bathrooms             981 non-null    float64\n",
      " 22  cellars               52 non-null     float64\n",
      " 23  num_floors            84 non-null     float64\n",
      " 24  monthly_fee           128 non-null    object \n",
      " 25  apartments_per_floor  15 non-null     float64\n",
      " 26  disposition           20 non-null     object \n",
      " 27  parking_lots          981 non-null    int64  \n",
      " 28  floor_situated        24 non-null     float64\n",
      " 29  orientation           8 non-null      object \n",
      " 30  num_bedrooms          981 non-null    float64\n",
      " 31  department_type       39 non-null     object \n",
      " 32  m2                    981 non-null    float64\n",
      " 33  final_price           981 non-null    float64\n",
      " 34  price_square_meter    981 non-null    float64\n",
      "dtypes: float64(15), int64(3), object(17)\n",
      "memory usage: 268.4+ KB\n"
     ]
    }
   ],
   "source": [
    "# descripción del tipo de datos\n",
    "data.info()"
   ]
  },
  {
   "cell_type": "code",
   "execution_count": 4,
   "metadata": {},
   "outputs": [
    {
     "data": {
      "text/html": [
       "<div>\n",
       "<style scoped>\n",
       "    .dataframe tbody tr th:only-of-type {\n",
       "        vertical-align: middle;\n",
       "    }\n",
       "\n",
       "    .dataframe tbody tr th {\n",
       "        vertical-align: top;\n",
       "    }\n",
       "\n",
       "    .dataframe thead th {\n",
       "        text-align: right;\n",
       "    }\n",
       "</style>\n",
       "<table border=\"1\" class=\"dataframe\">\n",
       "  <thead>\n",
       "    <tr style=\"text-align: right;\">\n",
       "      <th></th>\n",
       "      <th>description</th>\n",
       "      <th>vendor</th>\n",
       "      <th>lat</th>\n",
       "      <th>lon</th>\n",
       "      <th>price_mod</th>\n",
       "      <th>price_currency</th>\n",
       "      <th>since_period</th>\n",
       "      <th>since_value</th>\n",
       "      <th>days_on_site</th>\n",
       "      <th>amenities</th>\n",
       "      <th>...</th>\n",
       "      <th>apartments_per_floor</th>\n",
       "      <th>disposition</th>\n",
       "      <th>parking_lots</th>\n",
       "      <th>floor_situated</th>\n",
       "      <th>orientation</th>\n",
       "      <th>num_bedrooms</th>\n",
       "      <th>department_type</th>\n",
       "      <th>m2</th>\n",
       "      <th>final_price</th>\n",
       "      <th>price_square_meter</th>\n",
       "    </tr>\n",
       "  </thead>\n",
       "  <tbody>\n",
       "    <tr>\n",
       "      <th>0</th>\n",
       "      <td>Garden house  con 2 habitaciones y dos baños c...</td>\n",
       "      <td>Investemx</td>\n",
       "      <td>19.421317</td>\n",
       "      <td>-99.164182</td>\n",
       "      <td>9000000.0</td>\n",
       "      <td>pesos</td>\n",
       "      <td>days</td>\n",
       "      <td>5</td>\n",
       "      <td>5.0</td>\n",
       "      <td>3.0</td>\n",
       "      <td>...</td>\n",
       "      <td>NaN</td>\n",
       "      <td>Contrafrente</td>\n",
       "      <td>2</td>\n",
       "      <td>NaN</td>\n",
       "      <td>NaN</td>\n",
       "      <td>2.0</td>\n",
       "      <td>NaN</td>\n",
       "      <td>127.0</td>\n",
       "      <td>9000000.0</td>\n",
       "      <td>70866.141732</td>\n",
       "    </tr>\n",
       "    <tr>\n",
       "      <th>1</th>\n",
       "      <td>Mezcla perfecta entre E S T I L O y C A L I D ...</td>\n",
       "      <td>Avitana</td>\n",
       "      <td>19.421029</td>\n",
       "      <td>-99.163541</td>\n",
       "      <td>4264000.0</td>\n",
       "      <td>pesos</td>\n",
       "      <td>days</td>\n",
       "      <td>7</td>\n",
       "      <td>7.0</td>\n",
       "      <td>2.0</td>\n",
       "      <td>...</td>\n",
       "      <td>NaN</td>\n",
       "      <td>NaN</td>\n",
       "      <td>1</td>\n",
       "      <td>NaN</td>\n",
       "      <td>NaN</td>\n",
       "      <td>1.0</td>\n",
       "      <td>NaN</td>\n",
       "      <td>54.0</td>\n",
       "      <td>4264000.0</td>\n",
       "      <td>78962.962963</td>\n",
       "    </tr>\n",
       "    <tr>\n",
       "      <th>2</th>\n",
       "      <td>Concepto único en Roma Sur, es un desarrollo d...</td>\n",
       "      <td>Ebranuncios</td>\n",
       "      <td>19.407814</td>\n",
       "      <td>-99.161872</td>\n",
       "      <td>8093500.0</td>\n",
       "      <td>pesos</td>\n",
       "      <td>days</td>\n",
       "      <td>4</td>\n",
       "      <td>4.0</td>\n",
       "      <td>NaN</td>\n",
       "      <td>...</td>\n",
       "      <td>NaN</td>\n",
       "      <td>NaN</td>\n",
       "      <td>2</td>\n",
       "      <td>NaN</td>\n",
       "      <td>NaN</td>\n",
       "      <td>3.0</td>\n",
       "      <td>NaN</td>\n",
       "      <td>163.0</td>\n",
       "      <td>8093500.0</td>\n",
       "      <td>49653.374233</td>\n",
       "    </tr>\n",
       "    <tr>\n",
       "      <th>3</th>\n",
       "      <td>[VEN] ID HM: 40395.En Houm hacemos todo más fá...</td>\n",
       "      <td>Houm</td>\n",
       "      <td>19.404992</td>\n",
       "      <td>-99.160243</td>\n",
       "      <td>4000000.0</td>\n",
       "      <td>pesos</td>\n",
       "      <td>months</td>\n",
       "      <td>5</td>\n",
       "      <td>150.0</td>\n",
       "      <td>2.0</td>\n",
       "      <td>...</td>\n",
       "      <td>NaN</td>\n",
       "      <td>NaN</td>\n",
       "      <td>1</td>\n",
       "      <td>NaN</td>\n",
       "      <td>Oeste</td>\n",
       "      <td>2.0</td>\n",
       "      <td>Loft</td>\n",
       "      <td>93.0</td>\n",
       "      <td>4000000.0</td>\n",
       "      <td>43010.752688</td>\n",
       "    </tr>\n",
       "    <tr>\n",
       "      <th>4</th>\n",
       "      <td>La mejor opción en Roma Norte, sólo 7 departam...</td>\n",
       "      <td>Contactobienesraicesgold</td>\n",
       "      <td>19.419693</td>\n",
       "      <td>-99.156036</td>\n",
       "      <td>6732700.0</td>\n",
       "      <td>pesos</td>\n",
       "      <td>days</td>\n",
       "      <td>52</td>\n",
       "      <td>52.0</td>\n",
       "      <td>4.0</td>\n",
       "      <td>...</td>\n",
       "      <td>NaN</td>\n",
       "      <td>NaN</td>\n",
       "      <td>1</td>\n",
       "      <td>NaN</td>\n",
       "      <td>NaN</td>\n",
       "      <td>2.0</td>\n",
       "      <td>NaN</td>\n",
       "      <td>103.0</td>\n",
       "      <td>6732700.0</td>\n",
       "      <td>65366.019417</td>\n",
       "    </tr>\n",
       "    <tr>\n",
       "      <th>...</th>\n",
       "      <td>...</td>\n",
       "      <td>...</td>\n",
       "      <td>...</td>\n",
       "      <td>...</td>\n",
       "      <td>...</td>\n",
       "      <td>...</td>\n",
       "      <td>...</td>\n",
       "      <td>...</td>\n",
       "      <td>...</td>\n",
       "      <td>...</td>\n",
       "      <td>...</td>\n",
       "      <td>...</td>\n",
       "      <td>...</td>\n",
       "      <td>...</td>\n",
       "      <td>...</td>\n",
       "      <td>...</td>\n",
       "      <td>...</td>\n",
       "      <td>...</td>\n",
       "      <td>...</td>\n",
       "      <td>...</td>\n",
       "      <td>...</td>\n",
       "    </tr>\n",
       "    <tr>\n",
       "      <th>976</th>\n",
       "      <td>Departamento en preventa.</td>\n",
       "      <td>Coldwellbankerarsespacio</td>\n",
       "      <td>19.405777</td>\n",
       "      <td>-99.161068</td>\n",
       "      <td>6385000.0</td>\n",
       "      <td>pesos</td>\n",
       "      <td>days</td>\n",
       "      <td>40</td>\n",
       "      <td>40.0</td>\n",
       "      <td>NaN</td>\n",
       "      <td>...</td>\n",
       "      <td>NaN</td>\n",
       "      <td>NaN</td>\n",
       "      <td>2</td>\n",
       "      <td>NaN</td>\n",
       "      <td>NaN</td>\n",
       "      <td>2.0</td>\n",
       "      <td>NaN</td>\n",
       "      <td>140.0</td>\n",
       "      <td>6385000.0</td>\n",
       "      <td>45607.142857</td>\n",
       "    </tr>\n",
       "    <tr>\n",
       "      <th>977</th>\n",
       "      <td>Departamento en Preventa.</td>\n",
       "      <td>Coldwellbankerarsespacio</td>\n",
       "      <td>19.405777</td>\n",
       "      <td>-99.161068</td>\n",
       "      <td>4116000.0</td>\n",
       "      <td>pesos</td>\n",
       "      <td>days</td>\n",
       "      <td>40</td>\n",
       "      <td>40.0</td>\n",
       "      <td>NaN</td>\n",
       "      <td>...</td>\n",
       "      <td>NaN</td>\n",
       "      <td>NaN</td>\n",
       "      <td>1</td>\n",
       "      <td>NaN</td>\n",
       "      <td>NaN</td>\n",
       "      <td>2.0</td>\n",
       "      <td>NaN</td>\n",
       "      <td>84.0</td>\n",
       "      <td>4116000.0</td>\n",
       "      <td>49000.000000</td>\n",
       "    </tr>\n",
       "    <tr>\n",
       "      <th>978</th>\n",
       "      <td>Departamento en Preventa.</td>\n",
       "      <td>Coldwellbankerarsespacio</td>\n",
       "      <td>19.405777</td>\n",
       "      <td>-99.161068</td>\n",
       "      <td>4236000.0</td>\n",
       "      <td>pesos</td>\n",
       "      <td>days</td>\n",
       "      <td>40</td>\n",
       "      <td>40.0</td>\n",
       "      <td>NaN</td>\n",
       "      <td>...</td>\n",
       "      <td>NaN</td>\n",
       "      <td>NaN</td>\n",
       "      <td>1</td>\n",
       "      <td>NaN</td>\n",
       "      <td>NaN</td>\n",
       "      <td>2.0</td>\n",
       "      <td>NaN</td>\n",
       "      <td>88.0</td>\n",
       "      <td>4236000.0</td>\n",
       "      <td>48136.363636</td>\n",
       "    </tr>\n",
       "    <tr>\n",
       "      <th>979</th>\n",
       "      <td>Excelentes departamentos en venta en la coloni...</td>\n",
       "      <td>Coldwellbankerpremium</td>\n",
       "      <td>19.414845</td>\n",
       "      <td>-99.160241</td>\n",
       "      <td>6620120.0</td>\n",
       "      <td>pesos</td>\n",
       "      <td>months</td>\n",
       "      <td>2</td>\n",
       "      <td>60.0</td>\n",
       "      <td>NaN</td>\n",
       "      <td>...</td>\n",
       "      <td>NaN</td>\n",
       "      <td>NaN</td>\n",
       "      <td>2</td>\n",
       "      <td>NaN</td>\n",
       "      <td>NaN</td>\n",
       "      <td>2.0</td>\n",
       "      <td>NaN</td>\n",
       "      <td>114.0</td>\n",
       "      <td>6620120.0</td>\n",
       "      <td>58071.228070</td>\n",
       "    </tr>\n",
       "    <tr>\n",
       "      <th>980</th>\n",
       "      <td>Casa Roma 315 es un atractivo proyecto ubicado...</td>\n",
       "      <td>Aldo</td>\n",
       "      <td>19.402928</td>\n",
       "      <td>-99.168060</td>\n",
       "      <td>6270000.0</td>\n",
       "      <td>pesos</td>\n",
       "      <td>months</td>\n",
       "      <td>11</td>\n",
       "      <td>330.0</td>\n",
       "      <td>NaN</td>\n",
       "      <td>...</td>\n",
       "      <td>NaN</td>\n",
       "      <td>Interno</td>\n",
       "      <td>2</td>\n",
       "      <td>NaN</td>\n",
       "      <td>NaN</td>\n",
       "      <td>3.0</td>\n",
       "      <td>NaN</td>\n",
       "      <td>114.0</td>\n",
       "      <td>6270000.0</td>\n",
       "      <td>55000.000000</td>\n",
       "    </tr>\n",
       "  </tbody>\n",
       "</table>\n",
       "<p>981 rows × 25 columns</p>\n",
       "</div>"
      ],
      "text/plain": [
       "                                           description  \\\n",
       "0    Garden house  con 2 habitaciones y dos baños c...   \n",
       "1    Mezcla perfecta entre E S T I L O y C A L I D ...   \n",
       "2    Concepto único en Roma Sur, es un desarrollo d...   \n",
       "3    [VEN] ID HM: 40395.En Houm hacemos todo más fá...   \n",
       "4    La mejor opción en Roma Norte, sólo 7 departam...   \n",
       "..                                                 ...   \n",
       "976                          Departamento en preventa.   \n",
       "977                          Departamento en Preventa.   \n",
       "978                          Departamento en Preventa.   \n",
       "979  Excelentes departamentos en venta en la coloni...   \n",
       "980  Casa Roma 315 es un atractivo proyecto ubicado...   \n",
       "\n",
       "                       vendor        lat        lon  price_mod price_currency  \\\n",
       "0                   Investemx  19.421317 -99.164182  9000000.0          pesos   \n",
       "1                     Avitana  19.421029 -99.163541  4264000.0          pesos   \n",
       "2                 Ebranuncios  19.407814 -99.161872  8093500.0          pesos   \n",
       "3                        Houm  19.404992 -99.160243  4000000.0          pesos   \n",
       "4    Contactobienesraicesgold  19.419693 -99.156036  6732700.0          pesos   \n",
       "..                        ...        ...        ...        ...            ...   \n",
       "976  Coldwellbankerarsespacio  19.405777 -99.161068  6385000.0          pesos   \n",
       "977  Coldwellbankerarsespacio  19.405777 -99.161068  4116000.0          pesos   \n",
       "978  Coldwellbankerarsespacio  19.405777 -99.161068  4236000.0          pesos   \n",
       "979     Coldwellbankerpremium  19.414845 -99.160241  6620120.0          pesos   \n",
       "980                      Aldo  19.402928 -99.168060  6270000.0          pesos   \n",
       "\n",
       "    since_period  since_value  days_on_site  amenities  ...  \\\n",
       "0           days            5           5.0        3.0  ...   \n",
       "1           days            7           7.0        2.0  ...   \n",
       "2           days            4           4.0        NaN  ...   \n",
       "3         months            5         150.0        2.0  ...   \n",
       "4           days           52          52.0        4.0  ...   \n",
       "..           ...          ...           ...        ...  ...   \n",
       "976         days           40          40.0        NaN  ...   \n",
       "977         days           40          40.0        NaN  ...   \n",
       "978         days           40          40.0        NaN  ...   \n",
       "979       months            2          60.0        NaN  ...   \n",
       "980       months           11         330.0        NaN  ...   \n",
       "\n",
       "     apartments_per_floor   disposition  parking_lots  floor_situated  \\\n",
       "0                     NaN  Contrafrente             2             NaN   \n",
       "1                     NaN           NaN             1             NaN   \n",
       "2                     NaN           NaN             2             NaN   \n",
       "3                     NaN           NaN             1             NaN   \n",
       "4                     NaN           NaN             1             NaN   \n",
       "..                    ...           ...           ...             ...   \n",
       "976                   NaN           NaN             2             NaN   \n",
       "977                   NaN           NaN             1             NaN   \n",
       "978                   NaN           NaN             1             NaN   \n",
       "979                   NaN           NaN             2             NaN   \n",
       "980                   NaN       Interno             2             NaN   \n",
       "\n",
       "    orientation  num_bedrooms department_type     m2  final_price  \\\n",
       "0           NaN           2.0             NaN  127.0    9000000.0   \n",
       "1           NaN           1.0             NaN   54.0    4264000.0   \n",
       "2           NaN           3.0             NaN  163.0    8093500.0   \n",
       "3         Oeste           2.0            Loft   93.0    4000000.0   \n",
       "4           NaN           2.0             NaN  103.0    6732700.0   \n",
       "..          ...           ...             ...    ...          ...   \n",
       "976         NaN           2.0             NaN  140.0    6385000.0   \n",
       "977         NaN           2.0             NaN   84.0    4116000.0   \n",
       "978         NaN           2.0             NaN   88.0    4236000.0   \n",
       "979         NaN           2.0             NaN  114.0    6620120.0   \n",
       "980         NaN           3.0             NaN  114.0    6270000.0   \n",
       "\n",
       "    price_square_meter  \n",
       "0         70866.141732  \n",
       "1         78962.962963  \n",
       "2         49653.374233  \n",
       "3         43010.752688  \n",
       "4         65366.019417  \n",
       "..                 ...  \n",
       "976       45607.142857  \n",
       "977       49000.000000  \n",
       "978       48136.363636  \n",
       "979       58071.228070  \n",
       "980       55000.000000  \n",
       "\n",
       "[981 rows x 25 columns]"
      ]
     },
     "execution_count": 4,
     "metadata": {},
     "output_type": "execute_result"
    }
   ],
   "source": [
    "# se despliegan los primos 5 registros para conocer el formato de estos\n",
    "data.iloc[:,10:]"
   ]
  },
  {
   "cell_type": "markdown",
   "metadata": {},
   "source": [
    "Primero, describimos los campos que contiene la tabla y el tipo de dato que contiene con el fin de conocer la información:\n",
    "\n",
    "1.\tmain_name: object nombre del anuncio\n",
    "\n",
    "2.\tsubtitle: object tipo de anuncio\n",
    "\n",
    "3.\tlink: link del anuncio\n",
    "\n",
    "4.\tlocation: object dirección del inmueble\n",
    "\n",
    "5.\tprice: object precio de lista en pesos\n",
    "\n",
    "6.\tattributes: object  metros cuadrados y número de recámaras\n",
    "\n",
    "7.\ttimestamp: object fecha\n",
    "\n",
    "8.\tid:int64  id del registro\n",
    "\n",
    "9.\taddress: object dirección/ubicación del inmueble\n",
    "\n",
    "10.\tsince: object fecha de publición y anunciante\n",
    "\n",
    "11.\tdescription: object descripción del inmueble o anuncio\n",
    "\n",
    "12.\tvendor: object nombre del vendedor\n",
    "\n",
    "13.\tlat: float64 latitud \n",
    "\n",
    "14.\tlon: float64 longitud\n",
    "\n",
    "15.\tprice_mod: float64 precio\n",
    "\n",
    "16.\tprice_currency: object moneda\n",
    "\n",
    "17.\tsince_period: object perdio de tiempo en días, semanas, etc desde el anuncio\n",
    "\n",
    "18.\tsince_value: int64  número de días, semanas, desde el anuncio\n",
    "\n",
    "19.\tdays_on_site: float64 días desde la fecha de publicación\n",
    "\n",
    "20.\tamenities: float64 número de amenidades, es decir de facilidades que proporciona el inmueble, como alberca, lobby, seguridad, etc.\n",
    "\n",
    "21.\tage_in_years: float64 antiguedad del departamento en años\n",
    "\n",
    "22.\tbathrooms: float64 número de baños\n",
    "\n",
    "23.\tcellars: float64 número de bodegas \n",
    "\n",
    "24.\tnum_floors: float64 número de pisos donde se tiene un departamento en renta\n",
    "\n",
    "25.\tmonthly_fee: object impuesto mensual\n",
    "\n",
    "26.\tapartments_per_floor: float64 número de departamentos por piso disponibles en el edificio\n",
    "\n",
    "27.\tdisposition: object disposición del departamento, frente si da a la calle, interno si no da a la calle y contrafente si esta ubicado en la parte trasera del edificio\n",
    "\n",
    "28.\tparking_lots: int64 número de lugares de estacionamiento\n",
    "\n",
    "29.\tfloor_situated: float64 piso en el que se encuentra\n",
    "\n",
    "30.\torientation: object orientación\n",
    "\n",
    "31.\tnum_bedrooms: float64 número de cuartos\n",
    "\n",
    "32.\tdepartment_type: object tipo de departamentos, contiene solo tipo 'loft'\n",
    "\n",
    "33.\tm2: float64 metros cuadrados del departamento\n",
    "\n",
    "34.\tfinal_price: float64 suma de precio_mod + monthly_fee\n",
    "\n",
    "35.\tprice_square_meter: float6 precio por metro cuadrado"
   ]
  },
  {
   "cell_type": "markdown",
   "metadata": {},
   "source": [
    "## Preparación de los datos"
   ]
  },
  {
   "cell_type": "markdown",
   "metadata": {},
   "source": [
    "En esta sección, se hará un esfuerzo para mejorar la comprensión de los datos realizando exploraciones estadísticas y numéricas para visualizar mejor la información que se tiene. El objetivo de esta sección es tener un conocimiento de la estructura\n",
    "del modelo de datos, la información que contiene la tabla y conocer más a fondo qué contienen cada registros (departamento en renta), para posteriormente continuar con la propuesta de variables que alimenten al modelo."
   ]
  },
  {
   "cell_type": "code",
   "execution_count": 5,
   "metadata": {},
   "outputs": [
    {
     "data": {
      "text/html": [
       "<div>\n",
       "<style scoped>\n",
       "    .dataframe tbody tr th:only-of-type {\n",
       "        vertical-align: middle;\n",
       "    }\n",
       "\n",
       "    .dataframe tbody tr th {\n",
       "        vertical-align: top;\n",
       "    }\n",
       "\n",
       "    .dataframe thead th {\n",
       "        text-align: right;\n",
       "    }\n",
       "</style>\n",
       "<table border=\"1\" class=\"dataframe\">\n",
       "  <thead>\n",
       "    <tr style=\"text-align: right;\">\n",
       "      <th></th>\n",
       "      <th>final_price</th>\n",
       "      <th>price_mod</th>\n",
       "    </tr>\n",
       "  </thead>\n",
       "  <tbody>\n",
       "    <tr>\n",
       "      <th>final_price</th>\n",
       "      <td>1.0</td>\n",
       "      <td>1.0</td>\n",
       "    </tr>\n",
       "    <tr>\n",
       "      <th>price_mod</th>\n",
       "      <td>1.0</td>\n",
       "      <td>1.0</td>\n",
       "    </tr>\n",
       "  </tbody>\n",
       "</table>\n",
       "</div>"
      ],
      "text/plain": [
       "             final_price  price_mod\n",
       "final_price          1.0        1.0\n",
       "price_mod            1.0        1.0"
      ]
     },
     "execution_count": 5,
     "metadata": {},
     "output_type": "execute_result"
    }
   ],
   "source": [
    "# notemos que el calculo del precio final es igual al precio listado, por lo tanto sólo se utiliza un campo de los dos\n",
    "# esto pues final_price se calcula a partir de price_mod por lo que solo debe ser considerado alguna  de las dos\n",
    "data[['final_price','price_mod']].corr()"
   ]
  },
  {
   "cell_type": "code",
   "execution_count": 6,
   "metadata": {},
   "outputs": [
    {
     "name": "stdout",
     "output_type": "stream",
     "text": [
      "<class 'pandas.core.frame.DataFrame'>\n",
      "RangeIndex: 981 entries, 0 to 980\n",
      "Data columns (total 14 columns):\n",
      " #   Column                Non-Null Count  Dtype  \n",
      "---  ------                --------------  -----  \n",
      " 0   lat                   981 non-null    float64\n",
      " 1   lon                   981 non-null    float64\n",
      " 2   price_mod             981 non-null    float64\n",
      " 3   days_on_site          981 non-null    float64\n",
      " 4   amenities             504 non-null    float64\n",
      " 5   age_in_years          981 non-null    float64\n",
      " 6   bathrooms             981 non-null    float64\n",
      " 7   cellars               52 non-null     float64\n",
      " 8   num_floors            84 non-null     float64\n",
      " 9   apartments_per_floor  15 non-null     float64\n",
      " 10  parking_lots          981 non-null    int64  \n",
      " 11  floor_situated        24 non-null     float64\n",
      " 12  num_bedrooms          981 non-null    float64\n",
      " 13  m2                    981 non-null    float64\n",
      "dtypes: float64(13), int64(1)\n",
      "memory usage: 107.4 KB\n"
     ]
    }
   ],
   "source": [
    "# Primero obtenemos los nombres las las columnas categóricas y numéricas\n",
    "# Se excluyen la columna id, final_price\n",
    "# Veamos que price_square_meter se calcula a partir del precio final y el núm de m2, por lo tanto se descarta\n",
    "# since_value  se descarta pues solo consideraremos los días desde la fecha de publicación\n",
    "# col_num=numéricas\n",
    "col_num=data.drop(['id','price_square_meter','final_price','since_value'], axis=1).select_dtypes(exclude=['object']).columns.tolist()\n",
    "# ahora veremos los valores nulos que se tienen en el data set para estas variables \n",
    "data[col_num].info()"
   ]
  },
  {
   "cell_type": "code",
   "execution_count": 7,
   "metadata": {},
   "outputs": [
    {
     "name": "stdout",
     "output_type": "stream",
     "text": [
      "\n",
      "*** columna: 'lat' ***\n",
      "valores nulos:  0.0 %\n",
      "\n",
      "19.405299    99\n",
      "19.419526    69\n",
      "19.410923    51\n",
      "19.419526    47\n",
      "19.410925    42\n",
      "             ..\n",
      "19.412720     1\n",
      "19.406299     1\n",
      "19.418998     1\n",
      "19.402056     1\n",
      "19.418418     1\n",
      "Name: lat, Length: 322, dtype: int64\n",
      "\n",
      "*** columna: 'lon' ***\n",
      "valores nulos:  0.0 %\n",
      "\n",
      "-99.162549     116\n",
      "-99.164989      51\n",
      "-99.165172      51\n",
      "-99.164989      48\n",
      "-99.165164      42\n",
      "              ... \n",
      "-99.158933       1\n",
      "-99.166006       1\n",
      "-117.063962      1\n",
      "-99.159086       1\n",
      "-99.156037       1\n",
      "Name: lon, Length: 316, dtype: int64\n",
      "\n",
      "*** columna: 'price_mod' ***\n",
      "valores nulos:  0.0 %\n",
      "\n",
      "4495000.0     9\n",
      "2980000.0     8\n",
      "4369000.0     8\n",
      "7040000.0     8\n",
      "6790000.0     7\n",
      "             ..\n",
      "3516884.0     1\n",
      "9689000.0     1\n",
      "1020000.0     1\n",
      "5069400.0     1\n",
      "10174465.0    1\n",
      "Name: price_mod, Length: 623, dtype: int64\n",
      "\n",
      "*** columna: 'days_on_site' ***\n",
      "valores nulos:  0.0 %\n",
      "\n",
      "60.0     157\n",
      "35.0     114\n",
      "7.0       92\n",
      "365.0     63\n",
      "90.0      55\n",
      "300.0     52\n",
      "56.0      42\n",
      "120.0     33\n",
      "4.0       29\n",
      "240.0     28\n",
      "270.0     27\n",
      "39.0      26\n",
      "150.0     25\n",
      "210.0     18\n",
      "330.0     18\n",
      "12.0      17\n",
      "31.0      16\n",
      "24.0      15\n",
      "48.0      14\n",
      "180.0     10\n",
      "46.0      10\n",
      "25.0      10\n",
      "3.0        8\n",
      "21.0       7\n",
      "11.0       7\n",
      "40.0       6\n",
      "8.0        6\n",
      "6.0        6\n",
      "19.0       5\n",
      "55.0       5\n",
      "5.0        4\n",
      "22.0       4\n",
      "36.0       4\n",
      "41.0       4\n",
      "730.0      3\n",
      "33.0       3\n",
      "45.0       3\n",
      "27.0       3\n",
      "18.0       3\n",
      "59.0       3\n",
      "28.0       3\n",
      "14.0       3\n",
      "26.0       2\n",
      "44.0       2\n",
      "15.0       2\n",
      "20.0       2\n",
      "17.0       2\n",
      "1.0        1\n",
      "54.0       1\n",
      "38.0       1\n",
      "50.0       1\n",
      "16.0       1\n",
      "52.0       1\n",
      "9.0        1\n",
      "29.0       1\n",
      "34.0       1\n",
      "2.0        1\n",
      "Name: days_on_site, dtype: int64\n",
      "\n",
      "*** columna: 'amenities' ***\n",
      "valores nulos:  48.62385321100918 %\n",
      "\n",
      "4.0    215\n",
      "5.0    125\n",
      "2.0     75\n",
      "3.0     36\n",
      "6.0     29\n",
      "7.0     17\n",
      "1.0      5\n",
      "8.0      2\n",
      "Name: amenities, dtype: int64\n",
      "\n",
      "*** columna: 'age_in_years' ***\n",
      "valores nulos:  0.0 %\n",
      "\n",
      "0.0    981\n",
      "Name: age_in_years, dtype: int64\n",
      "\n",
      "*** columna: 'bathrooms' ***\n",
      "valores nulos:  0.0 %\n",
      "\n",
      "2.0     686\n",
      "1.0     178\n",
      "3.0     105\n",
      "4.0      10\n",
      "23.0      1\n",
      "5.0       1\n",
      "Name: bathrooms, dtype: int64\n",
      "\n",
      "*** columna: 'cellars' ***\n",
      "valores nulos:  94.69928644240571 %\n",
      "\n",
      "1.0    51\n",
      "2.0     1\n",
      "Name: cellars, dtype: int64\n",
      "\n",
      "*** columna: 'num_floors' ***\n",
      "valores nulos:  91.43730886850153 %\n",
      "\n",
      "1.0     31\n",
      "5.0     10\n",
      "4.0     10\n",
      "6.0      8\n",
      "3.0      8\n",
      "2.0      6\n",
      "7.0      5\n",
      "10.0     3\n",
      "12.0     2\n",
      "9.0      1\n",
      "Name: num_floors, dtype: int64\n",
      "\n",
      "*** columna: 'apartments_per_floor' ***\n",
      "valores nulos:  98.47094801223241 %\n",
      "\n",
      "3.0    4\n",
      "1.0    3\n",
      "4.0    3\n",
      "2.0    3\n",
      "5.0    1\n",
      "7.0    1\n",
      "Name: apartments_per_floor, dtype: int64\n",
      "\n",
      "*** columna: 'parking_lots' ***\n",
      "valores nulos:  0.0 %\n",
      "\n",
      "1    661\n",
      "2    315\n",
      "3      5\n",
      "Name: parking_lots, dtype: int64\n",
      "\n",
      "*** columna: 'floor_situated' ***\n",
      "valores nulos:  97.55351681957187 %\n",
      "\n",
      "1.0    14\n",
      "2.0     4\n",
      "5.0     2\n",
      "4.0     2\n",
      "3.0     2\n",
      "Name: floor_situated, dtype: int64\n",
      "\n",
      "*** columna: 'num_bedrooms' ***\n",
      "valores nulos:  0.0 %\n",
      "\n",
      "2.0    594\n",
      "3.0    240\n",
      "1.0    144\n",
      "4.0      3\n",
      "Name: num_bedrooms, dtype: int64\n",
      "\n",
      "*** columna: 'm2' ***\n",
      "valores nulos:  0.0 %\n",
      "\n",
      "78.00     29\n",
      "111.00    23\n",
      "86.00     22\n",
      "90.00     22\n",
      "93.00     22\n",
      "          ..\n",
      "168.00     1\n",
      "53.02      1\n",
      "170.00     1\n",
      "94.00      1\n",
      "33.59      1\n",
      "Name: m2, Length: 187, dtype: int64\n"
     ]
    }
   ],
   "source": [
    "# conteo de porcentaje de valores nulos en campos numericos y de valores \n",
    "for i in col_num:\n",
    "    print()\n",
    "    print('*** columna: \\'{}\\' ***'.format(i))\n",
    "    porcentaje_nulos = data[i].isnull().mean() * 100\n",
    "    print('valores nulos: ',porcentaje_nulos,'%')\n",
    "    print()\n",
    "    print(data[i].value_counts())"
   ]
  },
  {
   "cell_type": "code",
   "execution_count": 8,
   "metadata": {},
   "outputs": [],
   "source": [
    "# verifiquemos que todos los registros pertenezcan a la ciudad de México\n",
    "data.drop(data[data['lat'] > 20].index, inplace=True)\n"
   ]
  },
  {
   "cell_type": "code",
   "execution_count": 9,
   "metadata": {},
   "outputs": [
    {
     "data": {
      "text/html": [
       "<div>\n",
       "<style scoped>\n",
       "    .dataframe tbody tr th:only-of-type {\n",
       "        vertical-align: middle;\n",
       "    }\n",
       "\n",
       "    .dataframe tbody tr th {\n",
       "        vertical-align: top;\n",
       "    }\n",
       "\n",
       "    .dataframe thead th {\n",
       "        text-align: right;\n",
       "    }\n",
       "</style>\n",
       "<table border=\"1\" class=\"dataframe\">\n",
       "  <thead>\n",
       "    <tr style=\"text-align: right;\">\n",
       "      <th></th>\n",
       "      <th>main_name</th>\n",
       "      <th>subtitle</th>\n",
       "      <th>link</th>\n",
       "      <th>location</th>\n",
       "      <th>price</th>\n",
       "      <th>attributes</th>\n",
       "      <th>timestamp</th>\n",
       "      <th>id</th>\n",
       "      <th>address</th>\n",
       "      <th>since</th>\n",
       "      <th>...</th>\n",
       "      <th>apartments_per_floor</th>\n",
       "      <th>disposition</th>\n",
       "      <th>parking_lots</th>\n",
       "      <th>floor_situated</th>\n",
       "      <th>orientation</th>\n",
       "      <th>num_bedrooms</th>\n",
       "      <th>department_type</th>\n",
       "      <th>m2</th>\n",
       "      <th>final_price</th>\n",
       "      <th>price_square_meter</th>\n",
       "    </tr>\n",
       "  </thead>\n",
       "  <tbody>\n",
       "    <tr>\n",
       "      <th>0</th>\n",
       "      <td>Departamento - Roma Norte</td>\n",
       "      <td>Departamento en venta</td>\n",
       "      <td>https://departamento.metroscubicos.com/MLM-139...</td>\n",
       "      <td>Sinaloa 20 , Roma Sur, Roma Sur, Cuauhtémoc, D...</td>\n",
       "      <td>9000000 pesos</td>\n",
       "      <td>127 m² construidos,2 recs.</td>\n",
       "      <td>2022-03-29</td>\n",
       "      <td>1</td>\n",
       "      <td>Sinaloa 20 , Roma Sur</td>\n",
       "      <td>Publicado hace 5 días</td>\n",
       "      <td>...</td>\n",
       "      <td>NaN</td>\n",
       "      <td>Contrafrente</td>\n",
       "      <td>2</td>\n",
       "      <td>NaN</td>\n",
       "      <td>NaN</td>\n",
       "      <td>2.0</td>\n",
       "      <td>NaN</td>\n",
       "      <td>127.0</td>\n",
       "      <td>9000000.0</td>\n",
       "      <td>70866.141732</td>\n",
       "    </tr>\n",
       "    <tr>\n",
       "      <th>1</th>\n",
       "      <td>Preventa Exclusiva · Terraloza Roma Norte ·</td>\n",
       "      <td>Departamento en venta</td>\n",
       "      <td>https://departamento.metroscubicos.com/MLM-139...</td>\n",
       "      <td>Tonala, Roma Norte, Cuauhtémoc, Distrito Federal</td>\n",
       "      <td>4264000 pesos</td>\n",
       "      <td>54 m² construidos,1 rec.</td>\n",
       "      <td>2022-03-29</td>\n",
       "      <td>2</td>\n",
       "      <td>Tonala</td>\n",
       "      <td>Publicado hace 7 días</td>\n",
       "      <td>...</td>\n",
       "      <td>NaN</td>\n",
       "      <td>NaN</td>\n",
       "      <td>1</td>\n",
       "      <td>NaN</td>\n",
       "      <td>NaN</td>\n",
       "      <td>1.0</td>\n",
       "      <td>NaN</td>\n",
       "      <td>54.0</td>\n",
       "      <td>4264000.0</td>\n",
       "      <td>78962.962963</td>\n",
       "    </tr>\n",
       "    <tr>\n",
       "      <th>2</th>\n",
       "      <td>Townhouse Único En La Roma Sur</td>\n",
       "      <td>Departamento en venta</td>\n",
       "      <td>https://departamento.metroscubicos.com/MLM-139...</td>\n",
       "      <td>Tepeji 43, Roma Sur, Ciudad De México, Cdmx, M...</td>\n",
       "      <td>8093500 pesos</td>\n",
       "      <td>163 m² construidos,3 recs.</td>\n",
       "      <td>2022-03-29</td>\n",
       "      <td>3</td>\n",
       "      <td>Tepeji 43, Roma Sur, Ciudad De México, Cdmx, M...</td>\n",
       "      <td>Publicado hace 4 días</td>\n",
       "      <td>...</td>\n",
       "      <td>NaN</td>\n",
       "      <td>NaN</td>\n",
       "      <td>2</td>\n",
       "      <td>NaN</td>\n",
       "      <td>NaN</td>\n",
       "      <td>3.0</td>\n",
       "      <td>NaN</td>\n",
       "      <td>163.0</td>\n",
       "      <td>8093500.0</td>\n",
       "      <td>49653.374233</td>\n",
       "    </tr>\n",
       "    <tr>\n",
       "      <th>3</th>\n",
       "      <td>Departamento En Roma Sur, Cuauhtémoc Con 2 Rec...</td>\n",
       "      <td>Departamento en venta</td>\n",
       "      <td>https://departamento.metroscubicos.com/MLM-132...</td>\n",
       "      <td>Linares, Roma Sur, Cuauhtémoc, Distrito Federal</td>\n",
       "      <td>4000000 pesos</td>\n",
       "      <td>93 m² construidos,2 recs.</td>\n",
       "      <td>2022-03-29</td>\n",
       "      <td>4</td>\n",
       "      <td>Linares</td>\n",
       "      <td>Publicado hace 5 meses por {action}</td>\n",
       "      <td>...</td>\n",
       "      <td>NaN</td>\n",
       "      <td>NaN</td>\n",
       "      <td>1</td>\n",
       "      <td>NaN</td>\n",
       "      <td>Oeste</td>\n",
       "      <td>2.0</td>\n",
       "      <td>Loft</td>\n",
       "      <td>93.0</td>\n",
       "      <td>4000000.0</td>\n",
       "      <td>43010.752688</td>\n",
       "    </tr>\n",
       "    <tr>\n",
       "      <th>4</th>\n",
       "      <td>Últimos Deptos En Preventa En Roma Norte</td>\n",
       "      <td>Departamento en venta</td>\n",
       "      <td>https://departamento.metroscubicos.com/MLM-137...</td>\n",
       "      <td>Frontera, Roma Norte, Cuauhtémoc, Distrito Fed...</td>\n",
       "      <td>6732700 pesos</td>\n",
       "      <td>103 m² construidos,2 recs.</td>\n",
       "      <td>2022-03-29</td>\n",
       "      <td>5</td>\n",
       "      <td>Frontera</td>\n",
       "      <td>Publicado hace 52 días</td>\n",
       "      <td>...</td>\n",
       "      <td>NaN</td>\n",
       "      <td>NaN</td>\n",
       "      <td>1</td>\n",
       "      <td>NaN</td>\n",
       "      <td>NaN</td>\n",
       "      <td>2.0</td>\n",
       "      <td>NaN</td>\n",
       "      <td>103.0</td>\n",
       "      <td>6732700.0</td>\n",
       "      <td>65366.019417</td>\n",
       "    </tr>\n",
       "    <tr>\n",
       "      <th>...</th>\n",
       "      <td>...</td>\n",
       "      <td>...</td>\n",
       "      <td>...</td>\n",
       "      <td>...</td>\n",
       "      <td>...</td>\n",
       "      <td>...</td>\n",
       "      <td>...</td>\n",
       "      <td>...</td>\n",
       "      <td>...</td>\n",
       "      <td>...</td>\n",
       "      <td>...</td>\n",
       "      <td>...</td>\n",
       "      <td>...</td>\n",
       "      <td>...</td>\n",
       "      <td>...</td>\n",
       "      <td>...</td>\n",
       "      <td>...</td>\n",
       "      <td>...</td>\n",
       "      <td>...</td>\n",
       "      <td>...</td>\n",
       "      <td>...</td>\n",
       "    </tr>\n",
       "    <tr>\n",
       "      <th>976</th>\n",
       "      <td>Monterrey 101</td>\n",
       "      <td>Departamento en venta</td>\n",
       "      <td>https://departamento.metroscubicos.com/MLM-138...</td>\n",
       "      <td>Monterrey, Roma Sur, Cuauhtémoc, Distrito Federal</td>\n",
       "      <td>6385000 pesos</td>\n",
       "      <td>140 m² construidos,2 recs.</td>\n",
       "      <td>2022-03-29</td>\n",
       "      <td>981</td>\n",
       "      <td>Monterrey</td>\n",
       "      <td>Publicado hace 40 días</td>\n",
       "      <td>...</td>\n",
       "      <td>NaN</td>\n",
       "      <td>NaN</td>\n",
       "      <td>2</td>\n",
       "      <td>NaN</td>\n",
       "      <td>NaN</td>\n",
       "      <td>2.0</td>\n",
       "      <td>NaN</td>\n",
       "      <td>140.0</td>\n",
       "      <td>6385000.0</td>\n",
       "      <td>45607.142857</td>\n",
       "    </tr>\n",
       "    <tr>\n",
       "      <th>977</th>\n",
       "      <td>Monterrey 302</td>\n",
       "      <td>Departamento en venta</td>\n",
       "      <td>https://departamento.metroscubicos.com/MLM-138...</td>\n",
       "      <td>Monterrey, Roma Sur, Cuauhtémoc, Distrito Federal</td>\n",
       "      <td>4116000 pesos</td>\n",
       "      <td>84 m² construidos,2 recs.</td>\n",
       "      <td>2022-03-29</td>\n",
       "      <td>982</td>\n",
       "      <td>Monterrey</td>\n",
       "      <td>Publicado hace 40 días</td>\n",
       "      <td>...</td>\n",
       "      <td>NaN</td>\n",
       "      <td>NaN</td>\n",
       "      <td>1</td>\n",
       "      <td>NaN</td>\n",
       "      <td>NaN</td>\n",
       "      <td>2.0</td>\n",
       "      <td>NaN</td>\n",
       "      <td>84.0</td>\n",
       "      <td>4116000.0</td>\n",
       "      <td>49000.000000</td>\n",
       "    </tr>\n",
       "    <tr>\n",
       "      <th>978</th>\n",
       "      <td>Monterrey 201</td>\n",
       "      <td>Departamento en venta</td>\n",
       "      <td>https://departamento.metroscubicos.com/MLM-138...</td>\n",
       "      <td>Monterrey, Roma Sur, Cuauhtémoc, Distrito Federal</td>\n",
       "      <td>4236000 pesos</td>\n",
       "      <td>88 m² construidos,2 recs.</td>\n",
       "      <td>2022-03-29</td>\n",
       "      <td>983</td>\n",
       "      <td>Monterrey</td>\n",
       "      <td>Publicado hace 40 días</td>\n",
       "      <td>...</td>\n",
       "      <td>NaN</td>\n",
       "      <td>NaN</td>\n",
       "      <td>1</td>\n",
       "      <td>NaN</td>\n",
       "      <td>NaN</td>\n",
       "      <td>2.0</td>\n",
       "      <td>NaN</td>\n",
       "      <td>88.0</td>\n",
       "      <td>4236000.0</td>\n",
       "      <td>48136.363636</td>\n",
       "    </tr>\n",
       "    <tr>\n",
       "      <th>979</th>\n",
       "      <td>Departamento En Venta La Roma</td>\n",
       "      <td>Departamento en venta</td>\n",
       "      <td>https://departamento.metroscubicos.com/MLM-136...</td>\n",
       "      <td>Querétaro, Roma Norte, Cuauhtémoc, Distrito Fe...</td>\n",
       "      <td>6620120 pesos</td>\n",
       "      <td>114 m² construidos,2 recs.</td>\n",
       "      <td>2022-03-29</td>\n",
       "      <td>984</td>\n",
       "      <td>Querétaro</td>\n",
       "      <td>Publicado hace 2 meses</td>\n",
       "      <td>...</td>\n",
       "      <td>NaN</td>\n",
       "      <td>NaN</td>\n",
       "      <td>2</td>\n",
       "      <td>NaN</td>\n",
       "      <td>NaN</td>\n",
       "      <td>2.0</td>\n",
       "      <td>NaN</td>\n",
       "      <td>114.0</td>\n",
       "      <td>6620120.0</td>\n",
       "      <td>58071.228070</td>\n",
       "    </tr>\n",
       "    <tr>\n",
       "      <th>980</th>\n",
       "      <td>Bajio 315 Hanover 506 (casa Roma)</td>\n",
       "      <td>Departamento en venta</td>\n",
       "      <td>https://departamento.metroscubicos.com/MLM-139...</td>\n",
       "      <td>Bajío 315, Roma Sur, Cuauhtémoc, Distrito Federal</td>\n",
       "      <td>6270000 pesos</td>\n",
       "      <td>114 m² construidos,3 recs.</td>\n",
       "      <td>2022-03-29</td>\n",
       "      <td>985</td>\n",
       "      <td>Bajío 315</td>\n",
       "      <td>Publicado hace 11 meses</td>\n",
       "      <td>...</td>\n",
       "      <td>NaN</td>\n",
       "      <td>Interno</td>\n",
       "      <td>2</td>\n",
       "      <td>NaN</td>\n",
       "      <td>NaN</td>\n",
       "      <td>3.0</td>\n",
       "      <td>NaN</td>\n",
       "      <td>114.0</td>\n",
       "      <td>6270000.0</td>\n",
       "      <td>55000.000000</td>\n",
       "    </tr>\n",
       "  </tbody>\n",
       "</table>\n",
       "<p>944 rows × 35 columns</p>\n",
       "</div>"
      ],
      "text/plain": [
       "                                             main_name               subtitle  \\\n",
       "0                            Departamento - Roma Norte  Departamento en venta   \n",
       "1          Preventa Exclusiva · Terraloza Roma Norte ·  Departamento en venta   \n",
       "2                       Townhouse Único En La Roma Sur  Departamento en venta   \n",
       "3    Departamento En Roma Sur, Cuauhtémoc Con 2 Rec...  Departamento en venta   \n",
       "4             Últimos Deptos En Preventa En Roma Norte  Departamento en venta   \n",
       "..                                                 ...                    ...   \n",
       "976                                      Monterrey 101  Departamento en venta   \n",
       "977                                      Monterrey 302  Departamento en venta   \n",
       "978                                      Monterrey 201  Departamento en venta   \n",
       "979                      Departamento En Venta La Roma  Departamento en venta   \n",
       "980                  Bajio 315 Hanover 506 (casa Roma)  Departamento en venta   \n",
       "\n",
       "                                                  link  \\\n",
       "0    https://departamento.metroscubicos.com/MLM-139...   \n",
       "1    https://departamento.metroscubicos.com/MLM-139...   \n",
       "2    https://departamento.metroscubicos.com/MLM-139...   \n",
       "3    https://departamento.metroscubicos.com/MLM-132...   \n",
       "4    https://departamento.metroscubicos.com/MLM-137...   \n",
       "..                                                 ...   \n",
       "976  https://departamento.metroscubicos.com/MLM-138...   \n",
       "977  https://departamento.metroscubicos.com/MLM-138...   \n",
       "978  https://departamento.metroscubicos.com/MLM-138...   \n",
       "979  https://departamento.metroscubicos.com/MLM-136...   \n",
       "980  https://departamento.metroscubicos.com/MLM-139...   \n",
       "\n",
       "                                              location          price  \\\n",
       "0    Sinaloa 20 , Roma Sur, Roma Sur, Cuauhtémoc, D...  9000000 pesos   \n",
       "1     Tonala, Roma Norte, Cuauhtémoc, Distrito Federal  4264000 pesos   \n",
       "2    Tepeji 43, Roma Sur, Ciudad De México, Cdmx, M...  8093500 pesos   \n",
       "3      Linares, Roma Sur, Cuauhtémoc, Distrito Federal  4000000 pesos   \n",
       "4    Frontera, Roma Norte, Cuauhtémoc, Distrito Fed...  6732700 pesos   \n",
       "..                                                 ...            ...   \n",
       "976  Monterrey, Roma Sur, Cuauhtémoc, Distrito Federal  6385000 pesos   \n",
       "977  Monterrey, Roma Sur, Cuauhtémoc, Distrito Federal  4116000 pesos   \n",
       "978  Monterrey, Roma Sur, Cuauhtémoc, Distrito Federal  4236000 pesos   \n",
       "979  Querétaro, Roma Norte, Cuauhtémoc, Distrito Fe...  6620120 pesos   \n",
       "980  Bajío 315, Roma Sur, Cuauhtémoc, Distrito Federal  6270000 pesos   \n",
       "\n",
       "                     attributes   timestamp   id  \\\n",
       "0    127 m² construidos,2 recs.  2022-03-29    1   \n",
       "1      54 m² construidos,1 rec.  2022-03-29    2   \n",
       "2    163 m² construidos,3 recs.  2022-03-29    3   \n",
       "3     93 m² construidos,2 recs.  2022-03-29    4   \n",
       "4    103 m² construidos,2 recs.  2022-03-29    5   \n",
       "..                          ...         ...  ...   \n",
       "976  140 m² construidos,2 recs.  2022-03-29  981   \n",
       "977   84 m² construidos,2 recs.  2022-03-29  982   \n",
       "978   88 m² construidos,2 recs.  2022-03-29  983   \n",
       "979  114 m² construidos,2 recs.  2022-03-29  984   \n",
       "980  114 m² construidos,3 recs.  2022-03-29  985   \n",
       "\n",
       "                                               address  \\\n",
       "0                                Sinaloa 20 , Roma Sur   \n",
       "1                                               Tonala   \n",
       "2    Tepeji 43, Roma Sur, Ciudad De México, Cdmx, M...   \n",
       "3                                              Linares   \n",
       "4                                             Frontera   \n",
       "..                                                 ...   \n",
       "976                                          Monterrey   \n",
       "977                                          Monterrey   \n",
       "978                                          Monterrey   \n",
       "979                                          Querétaro   \n",
       "980                                          Bajío 315   \n",
       "\n",
       "                                   since  ... apartments_per_floor  \\\n",
       "0                  Publicado hace 5 días  ...                  NaN   \n",
       "1                  Publicado hace 7 días  ...                  NaN   \n",
       "2                  Publicado hace 4 días  ...                  NaN   \n",
       "3    Publicado hace 5 meses por {action}  ...                  NaN   \n",
       "4                 Publicado hace 52 días  ...                  NaN   \n",
       "..                                   ...  ...                  ...   \n",
       "976               Publicado hace 40 días  ...                  NaN   \n",
       "977               Publicado hace 40 días  ...                  NaN   \n",
       "978               Publicado hace 40 días  ...                  NaN   \n",
       "979               Publicado hace 2 meses  ...                  NaN   \n",
       "980              Publicado hace 11 meses  ...                  NaN   \n",
       "\n",
       "      disposition  parking_lots  floor_situated  orientation num_bedrooms  \\\n",
       "0    Contrafrente             2             NaN          NaN          2.0   \n",
       "1             NaN             1             NaN          NaN          1.0   \n",
       "2             NaN             2             NaN          NaN          3.0   \n",
       "3             NaN             1             NaN        Oeste          2.0   \n",
       "4             NaN             1             NaN          NaN          2.0   \n",
       "..            ...           ...             ...          ...          ...   \n",
       "976           NaN             2             NaN          NaN          2.0   \n",
       "977           NaN             1             NaN          NaN          2.0   \n",
       "978           NaN             1             NaN          NaN          2.0   \n",
       "979           NaN             2             NaN          NaN          2.0   \n",
       "980       Interno             2             NaN          NaN          3.0   \n",
       "\n",
       "    department_type     m2  final_price  price_square_meter  \n",
       "0               NaN  127.0    9000000.0        70866.141732  \n",
       "1               NaN   54.0    4264000.0        78962.962963  \n",
       "2               NaN  163.0    8093500.0        49653.374233  \n",
       "3              Loft   93.0    4000000.0        43010.752688  \n",
       "4               NaN  103.0    6732700.0        65366.019417  \n",
       "..              ...    ...          ...                 ...  \n",
       "976             NaN  140.0    6385000.0        45607.142857  \n",
       "977             NaN   84.0    4116000.0        49000.000000  \n",
       "978             NaN   88.0    4236000.0        48136.363636  \n",
       "979             NaN  114.0    6620120.0        58071.228070  \n",
       "980             NaN  114.0    6270000.0        55000.000000  \n",
       "\n",
       "[944 rows x 35 columns]"
      ]
     },
     "execution_count": 9,
     "metadata": {},
     "output_type": "execute_result"
    }
   ],
   "source": [
    "data"
   ]
  },
  {
   "cell_type": "code",
   "execution_count": 10,
   "metadata": {},
   "outputs": [],
   "source": [
    "# las columnas lon, lat, price_mod se van a considerar como variables numéricas continuas\n",
    "\n",
    "# para la columna days_on_site se hara uso de la distribución para considerar si se transforma en \n",
    "# variable categórica o se mantiene como variable continua\n",
    "\n",
    "# Notemos que la columna 'amenities' solo contiene ocho valores distintos de tipo entero, \n",
    "# por lo que se puede considerar transformar en una variable de tipo categórico\n",
    "\n",
    "# Todos los valores de la columna age_in_years son cero, por esto noo se utilizará en el modelo\n",
    "\n",
    "# Para la columna bathrooms se tienen seis tipos de datos distintos, por lo que puede considerarse como categórica\n",
    "# se va a verificar si el dato de tener 23 baños es correcto\n",
    "\n",
    "# La columna cellars que contiene el número de bodegas solo contiene dos tipos de registros, una y dos bodegas\n",
    "# sin embargo, como se tiene un porcentaje muy significativo de valores nulos y no existe una forma de rescatar la información\n",
    "# no se utilizará en el modelo\n",
    "\n",
    "# la variable num_floors contine un gran porcentaje de valores nulos, pero representa cuantos departamentos \n",
    "# se tienen en el inmueble, por tanto no será utilizada\n",
    "\n",
    "# El número de lugares de estacionamiento es uno, dos o tres a lo mucho, se analiza tomarla como tipo categórico\n",
    "\n",
    "# floor_situated se considera como categórica \n",
    "\n",
    "# num_bedrooms se considera como categórica \n",
    "\n",
    "# Por último, m2 se va a considerar como variable continua"
   ]
  },
  {
   "cell_type": "code",
   "execution_count": 11,
   "metadata": {},
   "outputs": [],
   "source": [
    "# Un problema que se tiene es la cantidad de valores faltantes en amenities\n",
    "# se hará la supoción de que si el anunciante no menciona alguna amedidad es por que\n",
    "# el inmueble no cuenta con ninguna, así los valores nulos \n",
    "data['amenities'].fillna(0, inplace=True)"
   ]
  },
  {
   "cell_type": "code",
   "execution_count": 12,
   "metadata": {},
   "outputs": [
    {
     "name": "stdout",
     "output_type": "stream",
     "text": [
      "687\n"
     ]
    }
   ],
   "source": [
    "# Para la columna bathrooms se tienen seis tipos de datos distintos, por lo que puede considerarse como categórica\n",
    "# Primero revisemos que el registro que tenga 23 baños sea correcto\n",
    "index = data['bathrooms'].idxmax()\n",
    "print(index)"
   ]
  },
  {
   "cell_type": "code",
   "execution_count": 13,
   "metadata": {},
   "outputs": [
    {
     "data": {
      "text/plain": [
       "main_name               Departamento En Chapultepec 182,col.roma,cuauh...\n",
       "subtitle                                            Departamento en venta\n",
       "link                    https://departamento.metroscubicos.com/MLM-135...\n",
       "location                                     Cuauhtémoc, Distrito Federal\n",
       "price                                                        839652 pesos\n",
       "attributes                                      70 m² construidos,2 recs.\n",
       "timestamp                                                      2022-03-29\n",
       "id                                                                    709\n",
       "address                                                               NaN\n",
       "since                                              Publicado hace 3 meses\n",
       "description             N O .. C R É D I T O S INMUEBLE EN ¨REMATE BAN...\n",
       "vendor                                          Consultores Patrimoniales\n",
       "lat                                                               19.4246\n",
       "lon                                                              -99.1583\n",
       "price_mod                                                          839652\n",
       "price_currency                                                      pesos\n",
       "since_period                                                       months\n",
       "since_value                                                             3\n",
       "days_on_site                                                           90\n",
       "amenities                                                               0\n",
       "age_in_years                                                            0\n",
       "bathrooms                                                               2\n",
       "cellars                                                               NaN\n",
       "num_floors                                                            NaN\n",
       "monthly_fee                                                           NaN\n",
       "apartments_per_floor                                                  NaN\n",
       "disposition                                                           NaN\n",
       "parking_lots                                                            1\n",
       "floor_situated                                                        NaN\n",
       "orientation                                                           NaN\n",
       "num_bedrooms                                                            2\n",
       "department_type                                                       NaN\n",
       "m2                                                                     70\n",
       "final_price                                                        839652\n",
       "price_square_meter                                                  11995\n",
       "Name: 704, dtype: object"
      ]
     },
     "execution_count": 13,
     "metadata": {},
     "output_type": "execute_result"
    }
   ],
   "source": [
    "# se buscó el anunciante y se conluye que el dato correcto es 2 baños, no 23, se realiza esta correción\n",
    "data.iloc[index,:]"
   ]
  },
  {
   "cell_type": "code",
   "execution_count": 14,
   "metadata": {},
   "outputs": [
    {
     "data": {
      "text/plain": [
       "2.0"
      ]
     },
     "execution_count": 14,
     "metadata": {},
     "output_type": "execute_result"
    }
   ],
   "source": [
    "# se reemplaza el valor por el dato correcto\n",
    "data['bathrooms'] = data['bathrooms'].replace(23,2)\n",
    "# y verificamos que se halla realizado el cambio\n",
    "data['bathrooms'][index] "
   ]
  },
  {
   "cell_type": "code",
   "execution_count": 15,
   "metadata": {},
   "outputs": [
    {
     "name": "stdout",
     "output_type": "stream",
     "text": [
      "<class 'pandas.core.frame.DataFrame'>\n",
      "Int64Index: 944 entries, 0 to 980\n",
      "Data columns (total 8 columns):\n",
      " #   Column           Non-Null Count  Dtype \n",
      "---  ------           --------------  ----- \n",
      " 0   timestamp        944 non-null    object\n",
      " 1   description      944 non-null    object\n",
      " 2   vendor           944 non-null    object\n",
      " 3   price_currency   944 non-null    object\n",
      " 4   monthly_fee      119 non-null    object\n",
      " 5   disposition      19 non-null     object\n",
      " 6   orientation      8 non-null      object\n",
      " 7   department_type  39 non-null     object\n",
      "dtypes: object(8)\n",
      "memory usage: 106.4+ KB\n"
     ]
    }
   ],
   "source": [
    "# ahora se trabajará con las variables categoricas\n",
    "# no se consideran:\n",
    "# 'main_name','subtitle', pues es el nombre del anuncio y la categoría\n",
    "# 'link' no se utilizará como variable\n",
    "# 'location','address' pues ya se tiene los campos de longitud y latitud que ubican el inmueble\n",
    "# 'price','attributes','since', 'since_period' pues ya existen otros campos que considerarn esta información de forma numérica\n",
    "col_cat=data.drop(['main_name','subtitle','link','location','price','attributes','address','since','since_period'], axis=1).select_dtypes(['object']).columns.tolist()\n",
    "data[col_cat].info()"
   ]
  },
  {
   "cell_type": "code",
   "execution_count": 16,
   "metadata": {},
   "outputs": [
    {
     "name": "stdout",
     "output_type": "stream",
     "text": [
      "*** columna: 'timestamp' ***\n",
      "valores nulos:  0.0 %\n",
      "\n",
      "*** columna: 'description' ***\n",
      "valores nulos:  0.0 %\n",
      "\n",
      "*** columna: 'vendor' ***\n",
      "valores nulos:  0.0 %\n",
      "\n",
      "*** columna: 'price_currency' ***\n",
      "valores nulos:  0.0 %\n",
      "\n",
      "*** columna: 'monthly_fee' ***\n",
      "valores nulos:  87.39 %\n",
      "\n",
      "*** columna: 'disposition' ***\n",
      "valores nulos:  97.99 %\n",
      "\n",
      "*** columna: 'orientation' ***\n",
      "valores nulos:  99.15 %\n",
      "\n",
      "*** columna: 'department_type' ***\n",
      "valores nulos:  95.87 %\n",
      "\n"
     ]
    }
   ],
   "source": [
    "# conteo de porcentaje de valores nulos\n",
    "for i in col_cat:\n",
    "    print('*** columna: \\'{}\\' ***'.format(i))\n",
    "    porcentaje_nulos = data[i].isnull().mean() * 100\n",
    "    print('valores nulos: ',round(porcentaje_nulos,2),'%')\n",
    "    print()"
   ]
  },
  {
   "cell_type": "code",
   "execution_count": 17,
   "metadata": {},
   "outputs": [
    {
     "data": {
      "text/plain": [
       "Metros Cuadrados Expertos    115\n",
       "Rent A House Cdmx            111\n",
       "Buscatuhogarmexico            96\n",
       "Bienesraiceslomelin           42\n",
       "Houm                          39\n",
       "                            ... \n",
       "Distritocapitalcondesa         1\n",
       "Century 21covarrubias          1\n",
       "Xlife Real Estate              1\n",
       "Almanza Inmobiliaria           1\n",
       "Contactobienesraicesgold       1\n",
       "Name: vendor, Length: 121, dtype: int64"
      ]
     },
     "execution_count": 17,
     "metadata": {},
     "output_type": "execute_result"
    }
   ],
   "source": [
    "# analicemos el tipo de datos que se tienen en la columna vendor\n",
    "data['vendor'].value_counts()\n",
    "# notemos que se tienen muchos registros por lo cual no es conveniente tomarla como categorica\n",
    "# es por eso que se va a tomar como TopVendor si tiene más de cierta cantidad de anuncios"
   ]
  },
  {
   "cell_type": "code",
   "execution_count": 18,
   "metadata": {},
   "outputs": [
    {
     "data": {
      "text/plain": [
       "Metros Cuadrados Expertos    12.182203\n",
       "Rent A House Cdmx            11.758475\n",
       "Buscatuhogarmexico           10.169492\n",
       "Bienesraiceslomelin           4.449153\n",
       "Houm                          4.131356\n",
       "                               ...    \n",
       "Distritocapitalcondesa        0.105932\n",
       "Century 21covarrubias         0.105932\n",
       "Xlife Real Estate             0.105932\n",
       "Almanza Inmobiliaria          0.105932\n",
       "Contactobienesraicesgold      0.105932\n",
       "Name: vendor, Length: 121, dtype: float64"
      ]
     },
     "execution_count": 18,
     "metadata": {},
     "output_type": "execute_result"
    }
   ],
   "source": [
    "# Calcular la frecuencia de cada valor en la columna\n",
    "frecuencias = data['vendor'].value_counts()\n",
    "\n",
    "# Calcular el porcentaje que representa cada valor respecto al total de registros\n",
    "porcentajes = frecuencias / len(data) * 100\n",
    "\n",
    "porcentajes\n",
    "# notamos que tres registros acumulan al menos 30% del porcentaje total de anuncios\n",
    "# esto se logra al tener más de 96 ventas  por lo tanto dichos registros se considerarn como\n",
    "# top vendedores "
   ]
  },
  {
   "cell_type": "code",
   "execution_count": 19,
   "metadata": {},
   "outputs": [],
   "source": [
    "# lo anterior se realiza con el siguiente código\n",
    "data['top_vendor'] = data['vendor'].map(lambda x: True if frecuencias[x] > 96 else False)"
   ]
  },
  {
   "cell_type": "code",
   "execution_count": 20,
   "metadata": {},
   "outputs": [
    {
     "data": {
      "text/plain": [
       "pesos    944\n",
       "Name: price_currency, dtype: int64"
      ]
     },
     "execution_count": 20,
     "metadata": {},
     "output_type": "execute_result"
    }
   ],
   "source": [
    "# notemos que todos los precios están en moneda nacional \n",
    "# por tanto no es necesario realizar ninguna conversión y no se utilizará este campo\n",
    "data['price_currency'].value_counts()"
   ]
  },
  {
   "cell_type": "code",
   "execution_count": 21,
   "metadata": {},
   "outputs": [
    {
     "data": {
      "text/plain": [
       "0 MXN       101\n",
       "1 MXN         5\n",
       "4 MXN         2\n",
       "2000 MXN      2\n",
       "800 MXN       1\n",
       "1500 MXN      1\n",
       "2900 MXN      1\n",
       "4000 MXN      1\n",
       "3700 MXN      1\n",
       "2500 MXN      1\n",
       "3000 MXN      1\n",
       "853 MXN       1\n",
       "3900 MXN      1\n",
       "Name: monthly_fee, dtype: int64"
      ]
     },
     "execution_count": 21,
     "metadata": {},
     "output_type": "execute_result"
    }
   ],
   "source": [
    "# veamos los valores que se tienen en la columna de monthly_fee\n",
    "data['monthly_fee'].value_counts()\n",
    "# Notemos que esta información contribuye a que la variable de price_mod y final_price sean iguales pues \n",
    "# final_price = price_mod + monthly_fee\n",
    "# es por ello, que sólo se utilizará price_mod"
   ]
  },
  {
   "cell_type": "code",
   "execution_count": 22,
   "metadata": {},
   "outputs": [
    {
     "data": {
      "text/plain": [
       "Frente          12\n",
       "Interno          4\n",
       "Contrafrente     3\n",
       "Name: disposition, dtype: int64"
      ]
     },
     "execution_count": 22,
     "metadata": {},
     "output_type": "execute_result"
    }
   ],
   "source": [
    "# veamos los valores que contiene la columna de disposición\n",
    "# esta variable sería interesante de analizar, por el momento no se centrara en hallar los datos faltantes\n",
    "# una propuesta para poder completar esta información analizando la imagen del departamento y clasifcarla\n",
    "data['disposition'].value_counts()"
   ]
  },
  {
   "cell_type": "code",
   "execution_count": 23,
   "metadata": {},
   "outputs": [
    {
     "data": {
      "text/plain": [
       "Poniente    3\n",
       "Sur         2\n",
       "Oriente     1\n",
       "Norte       1\n",
       "Oeste       1\n",
       "Name: orientation, dtype: int64"
      ]
     },
     "execution_count": 23,
     "metadata": {},
     "output_type": "execute_result"
    }
   ],
   "source": [
    "# prientación del departamento \n",
    "data['orientation'].value_counts()"
   ]
  },
  {
   "cell_type": "code",
   "execution_count": 24,
   "metadata": {},
   "outputs": [
    {
     "data": {
      "text/plain": [
       "Loft    39\n",
       "Name: department_type, dtype: int64"
      ]
     },
     "execution_count": 24,
     "metadata": {},
     "output_type": "execute_result"
    }
   ],
   "source": [
    "# Se observa que para el tipo de departamento sólo se tiene de tipo loft\n",
    "# tradicionalmente se sabe que un loft puede elevar el precio de un departamento,\n",
    "# es por ello que esta columna se utilizará para crear una vaRibles de tipo booleana\n",
    "# que indique si es loft o no\n",
    "data['department_type'].value_counts()"
   ]
  },
  {
   "cell_type": "markdown",
   "metadata": {},
   "source": [
    "##  Construcción de Analytical Base Table (ABT)"
   ]
  },
  {
   "cell_type": "code",
   "execution_count": 25,
   "metadata": {},
   "outputs": [],
   "source": [
    "# Creamos la tabla analytics basic table la cual será la tabla con la que se estará trabajando\n",
    "# primero guardamos las columnas a las que no se les aplicará ninguna transformación\n",
    "ABT = data[['id', 'price_mod','lon', 'lat','days_on_site','m2','bathrooms','amenities','parking_lots','num_bedrooms','top_vendor']]\n",
    "# se promueve la columna 'id' como índice de la tabla\n",
    "ABT = ABT.set_index('id')"
   ]
  },
  {
   "cell_type": "code",
   "execution_count": 26,
   "metadata": {},
   "outputs": [
    {
     "data": {
      "text/html": [
       "<div>\n",
       "<style scoped>\n",
       "    .dataframe tbody tr th:only-of-type {\n",
       "        vertical-align: middle;\n",
       "    }\n",
       "\n",
       "    .dataframe tbody tr th {\n",
       "        vertical-align: top;\n",
       "    }\n",
       "\n",
       "    .dataframe thead th {\n",
       "        text-align: right;\n",
       "    }\n",
       "</style>\n",
       "<table border=\"1\" class=\"dataframe\">\n",
       "  <thead>\n",
       "    <tr style=\"text-align: right;\">\n",
       "      <th></th>\n",
       "      <th>price_mod</th>\n",
       "      <th>lon</th>\n",
       "      <th>lat</th>\n",
       "      <th>days_on_site</th>\n",
       "      <th>m2</th>\n",
       "      <th>bathrooms</th>\n",
       "      <th>amenities</th>\n",
       "      <th>parking_lots</th>\n",
       "      <th>num_bedrooms</th>\n",
       "      <th>top_vendor</th>\n",
       "    </tr>\n",
       "    <tr>\n",
       "      <th>id</th>\n",
       "      <th></th>\n",
       "      <th></th>\n",
       "      <th></th>\n",
       "      <th></th>\n",
       "      <th></th>\n",
       "      <th></th>\n",
       "      <th></th>\n",
       "      <th></th>\n",
       "      <th></th>\n",
       "      <th></th>\n",
       "    </tr>\n",
       "  </thead>\n",
       "  <tbody>\n",
       "    <tr>\n",
       "      <th>1</th>\n",
       "      <td>9000000.0</td>\n",
       "      <td>-99.164182</td>\n",
       "      <td>19.421317</td>\n",
       "      <td>5.0</td>\n",
       "      <td>127.0</td>\n",
       "      <td>2.0</td>\n",
       "      <td>3.0</td>\n",
       "      <td>2</td>\n",
       "      <td>2.0</td>\n",
       "      <td>False</td>\n",
       "    </tr>\n",
       "    <tr>\n",
       "      <th>2</th>\n",
       "      <td>4264000.0</td>\n",
       "      <td>-99.163541</td>\n",
       "      <td>19.421029</td>\n",
       "      <td>7.0</td>\n",
       "      <td>54.0</td>\n",
       "      <td>1.0</td>\n",
       "      <td>2.0</td>\n",
       "      <td>1</td>\n",
       "      <td>1.0</td>\n",
       "      <td>False</td>\n",
       "    </tr>\n",
       "    <tr>\n",
       "      <th>3</th>\n",
       "      <td>8093500.0</td>\n",
       "      <td>-99.161872</td>\n",
       "      <td>19.407814</td>\n",
       "      <td>4.0</td>\n",
       "      <td>163.0</td>\n",
       "      <td>3.0</td>\n",
       "      <td>0.0</td>\n",
       "      <td>2</td>\n",
       "      <td>3.0</td>\n",
       "      <td>False</td>\n",
       "    </tr>\n",
       "    <tr>\n",
       "      <th>4</th>\n",
       "      <td>4000000.0</td>\n",
       "      <td>-99.160243</td>\n",
       "      <td>19.404992</td>\n",
       "      <td>150.0</td>\n",
       "      <td>93.0</td>\n",
       "      <td>2.0</td>\n",
       "      <td>2.0</td>\n",
       "      <td>1</td>\n",
       "      <td>2.0</td>\n",
       "      <td>False</td>\n",
       "    </tr>\n",
       "    <tr>\n",
       "      <th>5</th>\n",
       "      <td>6732700.0</td>\n",
       "      <td>-99.156036</td>\n",
       "      <td>19.419693</td>\n",
       "      <td>52.0</td>\n",
       "      <td>103.0</td>\n",
       "      <td>2.0</td>\n",
       "      <td>4.0</td>\n",
       "      <td>1</td>\n",
       "      <td>2.0</td>\n",
       "      <td>False</td>\n",
       "    </tr>\n",
       "    <tr>\n",
       "      <th>...</th>\n",
       "      <td>...</td>\n",
       "      <td>...</td>\n",
       "      <td>...</td>\n",
       "      <td>...</td>\n",
       "      <td>...</td>\n",
       "      <td>...</td>\n",
       "      <td>...</td>\n",
       "      <td>...</td>\n",
       "      <td>...</td>\n",
       "      <td>...</td>\n",
       "    </tr>\n",
       "    <tr>\n",
       "      <th>981</th>\n",
       "      <td>6385000.0</td>\n",
       "      <td>-99.161068</td>\n",
       "      <td>19.405777</td>\n",
       "      <td>40.0</td>\n",
       "      <td>140.0</td>\n",
       "      <td>2.0</td>\n",
       "      <td>0.0</td>\n",
       "      <td>2</td>\n",
       "      <td>2.0</td>\n",
       "      <td>False</td>\n",
       "    </tr>\n",
       "    <tr>\n",
       "      <th>982</th>\n",
       "      <td>4116000.0</td>\n",
       "      <td>-99.161068</td>\n",
       "      <td>19.405777</td>\n",
       "      <td>40.0</td>\n",
       "      <td>84.0</td>\n",
       "      <td>2.0</td>\n",
       "      <td>0.0</td>\n",
       "      <td>1</td>\n",
       "      <td>2.0</td>\n",
       "      <td>False</td>\n",
       "    </tr>\n",
       "    <tr>\n",
       "      <th>983</th>\n",
       "      <td>4236000.0</td>\n",
       "      <td>-99.161068</td>\n",
       "      <td>19.405777</td>\n",
       "      <td>40.0</td>\n",
       "      <td>88.0</td>\n",
       "      <td>2.0</td>\n",
       "      <td>0.0</td>\n",
       "      <td>1</td>\n",
       "      <td>2.0</td>\n",
       "      <td>False</td>\n",
       "    </tr>\n",
       "    <tr>\n",
       "      <th>984</th>\n",
       "      <td>6620120.0</td>\n",
       "      <td>-99.160241</td>\n",
       "      <td>19.414845</td>\n",
       "      <td>60.0</td>\n",
       "      <td>114.0</td>\n",
       "      <td>2.0</td>\n",
       "      <td>0.0</td>\n",
       "      <td>2</td>\n",
       "      <td>2.0</td>\n",
       "      <td>False</td>\n",
       "    </tr>\n",
       "    <tr>\n",
       "      <th>985</th>\n",
       "      <td>6270000.0</td>\n",
       "      <td>-99.168060</td>\n",
       "      <td>19.402928</td>\n",
       "      <td>330.0</td>\n",
       "      <td>114.0</td>\n",
       "      <td>2.0</td>\n",
       "      <td>0.0</td>\n",
       "      <td>2</td>\n",
       "      <td>3.0</td>\n",
       "      <td>False</td>\n",
       "    </tr>\n",
       "  </tbody>\n",
       "</table>\n",
       "<p>944 rows × 10 columns</p>\n",
       "</div>"
      ],
      "text/plain": [
       "     price_mod        lon        lat  days_on_site     m2  bathrooms  \\\n",
       "id                                                                     \n",
       "1    9000000.0 -99.164182  19.421317           5.0  127.0        2.0   \n",
       "2    4264000.0 -99.163541  19.421029           7.0   54.0        1.0   \n",
       "3    8093500.0 -99.161872  19.407814           4.0  163.0        3.0   \n",
       "4    4000000.0 -99.160243  19.404992         150.0   93.0        2.0   \n",
       "5    6732700.0 -99.156036  19.419693          52.0  103.0        2.0   \n",
       "..         ...        ...        ...           ...    ...        ...   \n",
       "981  6385000.0 -99.161068  19.405777          40.0  140.0        2.0   \n",
       "982  4116000.0 -99.161068  19.405777          40.0   84.0        2.0   \n",
       "983  4236000.0 -99.161068  19.405777          40.0   88.0        2.0   \n",
       "984  6620120.0 -99.160241  19.414845          60.0  114.0        2.0   \n",
       "985  6270000.0 -99.168060  19.402928         330.0  114.0        2.0   \n",
       "\n",
       "     amenities  parking_lots  num_bedrooms  top_vendor  \n",
       "id                                                      \n",
       "1          3.0             2           2.0       False  \n",
       "2          2.0             1           1.0       False  \n",
       "3          0.0             2           3.0       False  \n",
       "4          2.0             1           2.0       False  \n",
       "5          4.0             1           2.0       False  \n",
       "..         ...           ...           ...         ...  \n",
       "981        0.0             2           2.0       False  \n",
       "982        0.0             1           2.0       False  \n",
       "983        0.0             1           2.0       False  \n",
       "984        0.0             2           2.0       False  \n",
       "985        0.0             2           3.0       False  \n",
       "\n",
       "[944 rows x 10 columns]"
      ]
     },
     "execution_count": 26,
     "metadata": {},
     "output_type": "execute_result"
    }
   ],
   "source": [
    "# visualicemos la tabla que se acaba de crear\n",
    "ABT"
   ]
  },
  {
   "cell_type": "code",
   "execution_count": 27,
   "metadata": {},
   "outputs": [
    {
     "name": "stdout",
     "output_type": "stream",
     "text": [
      "<class 'pandas.core.frame.DataFrame'>\n",
      "Int64Index: 944 entries, 1 to 985\n",
      "Data columns (total 10 columns):\n",
      " #   Column        Non-Null Count  Dtype  \n",
      "---  ------        --------------  -----  \n",
      " 0   price_mod     944 non-null    float64\n",
      " 1   lon           944 non-null    float64\n",
      " 2   lat           944 non-null    float64\n",
      " 3   days_on_site  944 non-null    float64\n",
      " 4   m2            944 non-null    float64\n",
      " 5   bathrooms     944 non-null    float64\n",
      " 6   amenities     944 non-null    float64\n",
      " 7   parking_lots  944 non-null    int64  \n",
      " 8   num_bedrooms  944 non-null    float64\n",
      " 9   top_vendor    944 non-null    bool   \n",
      "dtypes: bool(1), float64(8), int64(1)\n",
      "memory usage: 74.7 KB\n"
     ]
    }
   ],
   "source": [
    "# Esta será la tabla con la cual se hará el modelo, entonces, realicemos algunas pruebas estadísticas para\n",
    "# visualizar la información y conocer qué algoritmos y métricas serían adecuados\n",
    "ABT.info()"
   ]
  },
  {
   "cell_type": "code",
   "execution_count": 28,
   "metadata": {},
   "outputs": [
    {
     "data": {
      "text/plain": [
       "<matplotlib.axes._subplots.AxesSubplot at 0x17aa968edc0>"
      ]
     },
     "execution_count": 28,
     "metadata": {},
     "output_type": "execute_result"
    },
    {
     "data": {
      "image/png": "[encoded data removed]",
      "text/plain": [
       "<Figure size 432x288 with 2 Axes>"
      ]
     },
     "metadata": {
      "needs_background": "light"
     },
     "output_type": "display_data"
    }
   ],
   "source": [
    "# Primero realicemos un análisis de correlación\n",
    "matriz_corr = ABT[['price_mod','lon', 'lat','days_on_site','m2','bathrooms','amenities','parking_lots','num_bedrooms']].corr()\n",
    "\n",
    "sns.heatmap(matriz_corr)\n",
    "# notamos que no existe mucha correlación entre las variables por lo que no hay variables que sean combinaciones lineales\n",
    "# y puedan ocasionar ruido al modelo\n",
    "\n",
    "# las variables que están más correlacionadas son el número de baños, amenidades, lugares de estacionamineto y \n",
    "# número de recámaras con el precio, inclusive más que con la cantidad de metros cuadrados."
   ]
  },
  {
   "cell_type": "code",
   "execution_count": 29,
   "metadata": {},
   "outputs": [],
   "source": [
    "# Convertimos las varibles numericas que se acumulan en pocos valores, a categóricas\n",
    "#ABT['bathrooms'] = ABT['bathrooms'].astype('object')\n",
    "#ABT['amenities'] = ABT['amenities'].astype('object')\n",
    "#ABT['parking_lots'] = ABT['parking_lots'].astype('object')\n",
    "#ABT['num_bedrooms'] = ABT['num_bedrooms'].astype('object')"
   ]
  },
  {
   "cell_type": "code",
   "execution_count": 30,
   "metadata": {},
   "outputs": [
    {
     "data": {
      "text/plain": [
       "[]"
      ]
     },
     "execution_count": 30,
     "metadata": {},
     "output_type": "execute_result"
    }
   ],
   "source": [
    "col_cat_ABT=ABT.select_dtypes(['object']).columns.tolist()\n",
    "col_cat_ABT"
   ]
  },
  {
   "cell_type": "code",
   "execution_count": 31,
   "metadata": {},
   "outputs": [],
   "source": [
    "# se analiza el comportamiento de cada variable\n",
    "for i in col_cat_ABT:\n",
    "    plt.hist(ABT[i])\n",
    "    plt.xlabel(i)\n",
    "    plt.ylabel('Frecuencia')\n",
    "    plt.title('Histograma de {}'.format(i))\n",
    "    plt.show()    "
   ]
  },
  {
   "cell_type": "code",
   "execution_count": 32,
   "metadata": {},
   "outputs": [
    {
     "name": "stdout",
     "output_type": "stream",
     "text": [
      "##########################  price_mod ########################## \n"
     ]
    },
    {
     "data": {
      "image/png": "[encoded data removed]",
      "text/plain": [
       "<Figure size 432x288 with 1 Axes>"
      ]
     },
     "metadata": {
      "needs_background": "light"
     },
     "output_type": "display_data"
    },
    {
     "name": "stdout",
     "output_type": "stream",
     "text": [
      "##########################  lon ########################## \n"
     ]
    },
    {
     "data": {
      "image/png": "[encoded data removed]",
      "text/plain": [
       "<Figure size 432x288 with 1 Axes>"
      ]
     },
     "metadata": {
      "needs_background": "light"
     },
     "output_type": "display_data"
    },
    {
     "name": "stdout",
     "output_type": "stream",
     "text": [
      "##########################  lat ########################## \n"
     ]
    },
    {
     "data": {
      "image/png": "[encoded data removed]",
      "text/plain": [
       "<Figure size 432x288 with 1 Axes>"
      ]
     },
     "metadata": {
      "needs_background": "light"
     },
     "output_type": "display_data"
    },
    {
     "name": "stdout",
     "output_type": "stream",
     "text": [
      "##########################  days_on_site ########################## \n"
     ]
    },
    {
     "data": {
      "image/png": "[encoded data removed]",
      "text/plain": [
       "<Figure size 432x288 with 1 Axes>"
      ]
     },
     "metadata": {
      "needs_background": "light"
     },
     "output_type": "display_data"
    },
    {
     "name": "stdout",
     "output_type": "stream",
     "text": [
      "##########################  m2 ########################## \n"
     ]
    },
    {
     "data": {
      "image/png": "[encoded data removed]",
      "text/plain": [
       "<Figure size 432x288 with 1 Axes>"
      ]
     },
     "metadata": {
      "needs_background": "light"
     },
     "output_type": "display_data"
    },
    {
     "name": "stdout",
     "output_type": "stream",
     "text": [
      "##########################  bathrooms ########################## \n"
     ]
    },
    {
     "data": {
      "image/png": "[encoded data removed]",
      "text/plain": [
       "<Figure size 432x288 with 1 Axes>"
      ]
     },
     "metadata": {
      "needs_background": "light"
     },
     "output_type": "display_data"
    },
    {
     "name": "stdout",
     "output_type": "stream",
     "text": [
      "##########################  amenities ########################## \n"
     ]
    },
    {
     "data": {
      "image/png": "[encoded data removed]",
      "text/plain": [
       "<Figure size 432x288 with 1 Axes>"
      ]
     },
     "metadata": {
      "needs_background": "light"
     },
     "output_type": "display_data"
    },
    {
     "name": "stdout",
     "output_type": "stream",
     "text": [
      "##########################  parking_lots ########################## \n"
     ]
    },
    {
     "data": {
      "image/png": "[encoded data removed]",
      "text/plain": [
       "<Figure size 432x288 with 1 Axes>"
      ]
     },
     "metadata": {
      "needs_background": "light"
     },
     "output_type": "display_data"
    },
    {
     "name": "stdout",
     "output_type": "stream",
     "text": [
      "##########################  num_bedrooms ########################## \n"
     ]
    },
    {
     "data": {
      "image/png": "[encoded data removed]",
      "text/plain": [
       "<Figure size 432x288 with 1 Axes>"
      ]
     },
     "metadata": {
      "needs_background": "light"
     },
     "output_type": "display_data"
    }
   ],
   "source": [
    "# Nos interesa saber a que distribución se parecen más, las distribuciones de las columnas.\n",
    "# Para ello usamos los qq-plots, este tipo de plots, están en la librería stats models\n",
    "# hacemos los qq-plots de las columnas numericas, mientras los puntos azules, me parezcan\n",
    "# más a la linea roja, la variable tendra más similitud a una normal con los mismos parametros\n",
    "# que la muestra. Es una forma visual de saber si algo se compart normal\n",
    "col_num_ABT = ABT.select_dtypes(exclude=['object','bool']).columns.tolist()\n",
    "for i in col_num_ABT:\n",
    "    print('##########################  %s ########################## '%i)\n",
    "    sm.qqplot( ABT[i], fit   = True, line  = 'q', alpha = 0.4, lw    = 2)\n",
    "    plt.show()\n",
    "    \n",
    "# notemos que price_mod se asemeja de forma de la identida, por lo que hay sospecha de relación lineal\n",
    "# hagamos el mismo análisis pero ahora removiendo outliers"
   ]
  },
  {
   "cell_type": "code",
   "execution_count": 33,
   "metadata": {},
   "outputs": [
    {
     "name": "stdout",
     "output_type": "stream",
     "text": [
      "##########################  price_mod ########################## \n"
     ]
    },
    {
     "data": {
      "text/plain": [
       "count    9.440000e+02\n",
       "mean     6.220946e+06\n",
       "std      2.927177e+06\n",
       "min      6.342170e+05\n",
       "25%      4.369000e+06\n",
       "50%      5.653287e+06\n",
       "75%      7.860470e+06\n",
       "max      2.233000e+07\n",
       "Name: price_mod, dtype: float64"
      ]
     },
     "metadata": {},
     "output_type": "display_data"
    },
    {
     "data": {
      "image/png": "[encoded data removed]",
      "text/plain": [
       "<Figure size 576x360 with 1 Axes>"
      ]
     },
     "metadata": {
      "needs_background": "light"
     },
     "output_type": "display_data"
    },
    {
     "name": "stdout",
     "output_type": "stream",
     "text": [
      "##########################  lon ########################## \n"
     ]
    },
    {
     "data": {
      "text/plain": [
       "count    944.000000\n",
       "mean     -99.163070\n",
       "std        0.004841\n",
       "min      -99.226707\n",
       "25%      -99.165164\n",
       "50%      -99.163366\n",
       "75%      -99.161073\n",
       "max      -99.128642\n",
       "Name: lon, dtype: float64"
      ]
     },
     "metadata": {},
     "output_type": "display_data"
    },
    {
     "data": {
      "image/png": "[encoded data removed]",
      "text/plain": [
       "<Figure size 576x360 with 1 Axes>"
      ]
     },
     "metadata": {
      "needs_background": "light"
     },
     "output_type": "display_data"
    },
    {
     "name": "stdout",
     "output_type": "stream",
     "text": [
      "##########################  lat ########################## \n"
     ]
    },
    {
     "data": {
      "text/plain": [
       "count    944.000000\n",
       "mean      19.412402\n",
       "std        0.007598\n",
       "min       19.360533\n",
       "25%       19.405598\n",
       "50%       19.411426\n",
       "75%       19.418751\n",
       "max       19.445100\n",
       "Name: lat, dtype: float64"
      ]
     },
     "metadata": {},
     "output_type": "display_data"
    },
    {
     "data": {
      "image/png": "[encoded data removed]",
      "text/plain": [
       "<Figure size 576x360 with 1 Axes>"
      ]
     },
     "metadata": {
      "needs_background": "light"
     },
     "output_type": "display_data"
    },
    {
     "name": "stdout",
     "output_type": "stream",
     "text": [
      "##########################  days_on_site ########################## \n"
     ]
    },
    {
     "data": {
      "text/plain": [
       "count    944.000000\n",
       "mean     101.537076\n",
       "std      116.390185\n",
       "min        1.000000\n",
       "25%       31.000000\n",
       "50%       56.000000\n",
       "75%      120.000000\n",
       "max      730.000000\n",
       "Name: days_on_site, dtype: float64"
      ]
     },
     "metadata": {},
     "output_type": "display_data"
    },
    {
     "data": {
      "image/png": "[encoded data removed]",
      "text/plain": [
       "<Figure size 576x360 with 1 Axes>"
      ]
     },
     "metadata": {
      "needs_background": "light"
     },
     "output_type": "display_data"
    },
    {
     "name": "stdout",
     "output_type": "stream",
     "text": [
      "##########################  m2 ########################## \n"
     ]
    },
    {
     "data": {
      "text/plain": [
       "count     944.000000\n",
       "mean      112.521727\n",
       "std       235.900435\n",
       "min        31.000000\n",
       "25%        75.000000\n",
       "50%        93.000000\n",
       "75%       129.250000\n",
       "max      7210.000000\n",
       "Name: m2, dtype: float64"
      ]
     },
     "metadata": {},
     "output_type": "display_data"
    },
    {
     "data": {
      "image/png": "[encoded data removed]",
      "text/plain": [
       "<Figure size 576x360 with 1 Axes>"
      ]
     },
     "metadata": {
      "needs_background": "light"
     },
     "output_type": "display_data"
    },
    {
     "name": "stdout",
     "output_type": "stream",
     "text": [
      "##########################  bathrooms ########################## \n"
     ]
    },
    {
     "data": {
      "text/plain": [
       "count    944.000000\n",
       "mean       1.955508\n",
       "std        0.577165\n",
       "min        1.000000\n",
       "25%        2.000000\n",
       "50%        2.000000\n",
       "75%        2.000000\n",
       "max        5.000000\n",
       "Name: bathrooms, dtype: float64"
      ]
     },
     "metadata": {},
     "output_type": "display_data"
    },
    {
     "name": "stderr",
     "output_type": "stream",
     "text": [
      "C:\\Users\\Marco\\anaconda3\\lib\\site-packages\\statsmodels\\graphics\\gofplots.py:237: RuntimeWarning: invalid value encountered in true_divide\n",
      "  return (self.sorted_data-self.loc)/self.scale\n"
     ]
    },
    {
     "data": {
      "image/png": "[encoded data removed]",
      "text/plain": [
       "<Figure size 576x360 with 1 Axes>"
      ]
     },
     "metadata": {
      "needs_background": "light"
     },
     "output_type": "display_data"
    },
    {
     "name": "stdout",
     "output_type": "stream",
     "text": [
      "##########################  amenities ########################## \n"
     ]
    },
    {
     "data": {
      "text/plain": [
       "count    944.000000\n",
       "mean       2.070975\n",
       "std        2.207729\n",
       "min        0.000000\n",
       "25%        0.000000\n",
       "50%        2.000000\n",
       "75%        4.000000\n",
       "max        8.000000\n",
       "Name: amenities, dtype: float64"
      ]
     },
     "metadata": {},
     "output_type": "display_data"
    },
    {
     "data": {
      "image/png": "[encoded data removed]",
      "text/plain": [
       "<Figure size 576x360 with 1 Axes>"
      ]
     },
     "metadata": {
      "needs_background": "light"
     },
     "output_type": "display_data"
    },
    {
     "name": "stdout",
     "output_type": "stream",
     "text": [
      "##########################  parking_lots ########################## \n"
     ]
    },
    {
     "data": {
      "text/plain": [
       "count    944.000000\n",
       "mean       1.332627\n",
       "std        0.480318\n",
       "min        1.000000\n",
       "25%        1.000000\n",
       "50%        1.000000\n",
       "75%        2.000000\n",
       "max        3.000000\n",
       "Name: parking_lots, dtype: float64"
      ]
     },
     "metadata": {},
     "output_type": "display_data"
    },
    {
     "data": {
      "image/png": "[encoded data removed]",
      "text/plain": [
       "<Figure size 576x360 with 1 Axes>"
      ]
     },
     "metadata": {
      "needs_background": "light"
     },
     "output_type": "display_data"
    },
    {
     "name": "stdout",
     "output_type": "stream",
     "text": [
      "##########################  num_bedrooms ########################## \n"
     ]
    },
    {
     "data": {
      "text/plain": [
       "count    944.000000\n",
       "mean       2.096398\n",
       "std        0.612894\n",
       "min        1.000000\n",
       "25%        2.000000\n",
       "50%        2.000000\n",
       "75%        2.000000\n",
       "max        4.000000\n",
       "Name: num_bedrooms, dtype: float64"
      ]
     },
     "metadata": {},
     "output_type": "display_data"
    },
    {
     "name": "stderr",
     "output_type": "stream",
     "text": [
      "C:\\Users\\Marco\\anaconda3\\lib\\site-packages\\statsmodels\\graphics\\gofplots.py:237: RuntimeWarning: invalid value encountered in true_divide\n",
      "  return (self.sorted_data-self.loc)/self.scale\n"
     ]
    },
    {
     "data": {
      "image/png": "[encoded data removed]",
      "text/plain": [
       "<Figure size 576x360 with 1 Axes>"
      ]
     },
     "metadata": {
      "needs_background": "light"
     },
     "output_type": "display_data"
    }
   ],
   "source": [
    "for i in col_num_ABT:\n",
    "    print('##########################  %s ########################## '%i)\n",
    "    display(ABT[i].describe())\n",
    "    plt.rcParams['figure.figsize']=(8,5)\n",
    "    Q1 = ABT[i].quantile(0.25)\n",
    "    Q3 = ABT[i].quantile(0.75)\n",
    "    IQR = Q3 - Q1\n",
    "    filter = (ABT[i] >= Q1 - 1.5 * IQR) & (ABT[i] <= Q3 + 1.5 *IQR)\n",
    "    sm.qqplot( ABT.loc[filter][i].dropna(), fit   = True, line  = '45', alpha = 0.4, lw    = 2)    \n",
    "    plt.show()\n",
    "    \n",
    "# Con esto notamos que la distribución de price_mod y m2 se asemejan más a una normal al remover outliers\n",
    "# la forma de latitud, longitud también mejora ligeramente\n",
    "# de la variable days_on_site no se puede asumir que sigue alguna distribución en particular"
   ]
  },
  {
   "cell_type": "code",
   "execution_count": 34,
   "metadata": {},
   "outputs": [
    {
     "name": "stdout",
     "output_type": "stream",
     "text": [
      "\n",
      "Anderson-Darling test:\n",
      "Test statistic: 228.87275061159175\n",
      "p-values: [0.574 0.653 0.784 0.914 1.087]\n"
     ]
    }
   ],
   "source": [
    "# A continuación, se realiza una prueba de hipótesis con el fin de analizar si \n",
    "# tiene sentido proponer un modelo de regresión \n",
    "\n",
    "#  Anderson-Darling test ####### pvalue > 0.05 entonces es normal\n",
    "anderson_test = stats.anderson(ABT['m2'], dist='norm')\n",
    "print(\"\\nAnderson-Darling test:\")\n",
    "print(\"Test statistic:\", anderson_test[0])\n",
    "print(\"p-values:\", anderson_test[1])\n",
    "\n",
    "# se puede concluir que hay evidencia de que la variable m2 sigue una distribución normal"
   ]
  },
  {
   "cell_type": "code",
   "execution_count": 35,
   "metadata": {},
   "outputs": [],
   "source": [
    "# Una vez realizado este análisis la tabla ABT se va a guardar en otro \n",
    "# archivo el cual se va a aplicar los modelos\n",
    "ABT.to_csv('tabla_abt_modelo.csv', index=False)"
   ]
  }
 ],
 "metadata": {
  "kernelspec": {
   "display_name": "Python 3",
   "language": "python",
   "name": "python3"
  },
  "language_info": {
   "codemirror_mode": {
    "name": "ipython",
    "version": 3
   },
   "file_extension": ".py",
   "mimetype": "text/x-python",
   "name": "python",
   "nbconvert_exporter": "python",
   "pygments_lexer": "ipython3",
   "version": "3.8.3"
  }
 },
 "nbformat": 4,
 "nbformat_minor": 4
}
